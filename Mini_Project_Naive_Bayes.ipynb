{
  "nbformat": 4,
  "nbformat_minor": 0,
  "metadata": {
    "kernelspec": {
      "display_name": "Python 2",
      "language": "python",
      "name": "python2"
    },
    "language_info": {
      "codemirror_mode": {
        "name": "ipython",
        "version": 2
      },
      "file_extension": ".py",
      "mimetype": "text/x-python",
      "name": "python",
      "nbconvert_exporter": "python",
      "pygments_lexer": "ipython2",
      "version": "2.7.13"
    },
    "colab": {
      "name": "Mini_Project_Naive_Bayes.ipynb",
      "version": "0.3.2",
      "provenance": [],
      "collapsed_sections": []
    }
  },
  "cells": [
    {
      "cell_type": "markdown",
      "metadata": {
        "id": "ilRXxpZBGQdK",
        "colab_type": "text"
      },
      "source": [
        "# Basic Text Classification with Naive Bayes\n",
        "***\n",
        "In the mini-project, you'll learn the basics of text analysis using a subset of movie reviews from the rotten tomatoes database. You'll also use a fundamental technique in Bayesian inference, called Naive Bayes. This mini-project is based on [Lab 10 of Harvard's CS109](https://github.com/cs109/2015lab10) class.  Please free to go to the original lab for additional exercises and solutions."
      ]
    },
    {
      "cell_type": "code",
      "metadata": {
        "id": "4gpXa6THGQdN",
        "colab_type": "code",
        "colab": {}
      },
      "source": [
        "%matplotlib inline\n",
        "import numpy as np\n",
        "import scipy as sp\n",
        "import matplotlib as mpl\n",
        "import matplotlib.cm as cm\n",
        "import matplotlib.pyplot as plt\n",
        "import pandas as pd\n",
        "import seaborn as sns\n",
        "from six.moves import range\n",
        "\n",
        "# Setup Pandas\n",
        "pd.set_option('display.width', 500)\n",
        "pd.set_option('display.max_columns', 100)\n",
        "pd.set_option('display.notebook_repr_html', True)\n",
        "\n",
        "# Setup Seaborn\n",
        "sns.set_style(\"whitegrid\")\n",
        "sns.set_context(\"poster\")"
      ],
      "execution_count": 0,
      "outputs": []
    },
    {
      "cell_type": "markdown",
      "metadata": {
        "id": "f0-lIztkGQdU",
        "colab_type": "text"
      },
      "source": [
        "# Table of Contents\n",
        "\n",
        "* [Rotten Tomatoes Dataset](#Rotten-Tomatoes-Dataset)\n",
        "    * [Explore](#Explore)\n",
        "* [The Vector Space Model and a Search Engine](#The-Vector-Space-Model-and-a-Search-Engine)\n",
        "    * [In Code](#In-Code)\n",
        "* [Naive Bayes](#Naive-Bayes)\n",
        "    * [Multinomial Naive Bayes and Other Likelihood Functions](#Multinomial-Naive-Bayes-and-Other-Likelihood-Functions)\n",
        "    * [Picking Hyperparameters for Naive Bayes and Text Maintenance](#Picking-Hyperparameters-for-Naive-Bayes-and-Text-Maintenance)\n",
        "* [Interpretation](#Interpretation)\n"
      ]
    },
    {
      "cell_type": "markdown",
      "metadata": {
        "id": "T196LWEiGQdW",
        "colab_type": "text"
      },
      "source": [
        "## Rotten Tomatoes Dataset"
      ]
    },
    {
      "cell_type": "code",
      "metadata": {
        "id": "kf2TPCriGQdX",
        "colab_type": "code",
        "colab": {
          "base_uri": "https://localhost:8080/",
          "height": 204
        },
        "outputId": "ff1c28bc-b862-438c-fecc-992256838580"
      },
      "source": [
        "critics = pd.read_csv('./critics.csv')\n",
        "#let's drop rows with missing quotes\n",
        "critics = critics[~critics.quote.isnull()]\n",
        "critics.head()"
      ],
      "execution_count": 3,
      "outputs": [
        {
          "output_type": "execute_result",
          "data": {
            "text/html": [
              "<div>\n",
              "<style scoped>\n",
              "    .dataframe tbody tr th:only-of-type {\n",
              "        vertical-align: middle;\n",
              "    }\n",
              "\n",
              "    .dataframe tbody tr th {\n",
              "        vertical-align: top;\n",
              "    }\n",
              "\n",
              "    .dataframe thead th {\n",
              "        text-align: right;\n",
              "    }\n",
              "</style>\n",
              "<table border=\"1\" class=\"dataframe\">\n",
              "  <thead>\n",
              "    <tr style=\"text-align: right;\">\n",
              "      <th></th>\n",
              "      <th>critic</th>\n",
              "      <th>fresh</th>\n",
              "      <th>imdb</th>\n",
              "      <th>publication</th>\n",
              "      <th>quote</th>\n",
              "      <th>review_date</th>\n",
              "      <th>rtid</th>\n",
              "      <th>title</th>\n",
              "    </tr>\n",
              "  </thead>\n",
              "  <tbody>\n",
              "    <tr>\n",
              "      <th>1</th>\n",
              "      <td>Derek Adams</td>\n",
              "      <td>fresh</td>\n",
              "      <td>114709</td>\n",
              "      <td>Time Out</td>\n",
              "      <td>So ingenious in concept, design and execution ...</td>\n",
              "      <td>2009-10-04</td>\n",
              "      <td>9559</td>\n",
              "      <td>Toy story</td>\n",
              "    </tr>\n",
              "    <tr>\n",
              "      <th>2</th>\n",
              "      <td>Richard Corliss</td>\n",
              "      <td>fresh</td>\n",
              "      <td>114709</td>\n",
              "      <td>TIME Magazine</td>\n",
              "      <td>The year's most inventive comedy.</td>\n",
              "      <td>2008-08-31</td>\n",
              "      <td>9559</td>\n",
              "      <td>Toy story</td>\n",
              "    </tr>\n",
              "    <tr>\n",
              "      <th>3</th>\n",
              "      <td>David Ansen</td>\n",
              "      <td>fresh</td>\n",
              "      <td>114709</td>\n",
              "      <td>Newsweek</td>\n",
              "      <td>A winning animated feature that has something ...</td>\n",
              "      <td>2008-08-18</td>\n",
              "      <td>9559</td>\n",
              "      <td>Toy story</td>\n",
              "    </tr>\n",
              "    <tr>\n",
              "      <th>4</th>\n",
              "      <td>Leonard Klady</td>\n",
              "      <td>fresh</td>\n",
              "      <td>114709</td>\n",
              "      <td>Variety</td>\n",
              "      <td>The film sports a provocative and appealing st...</td>\n",
              "      <td>2008-06-09</td>\n",
              "      <td>9559</td>\n",
              "      <td>Toy story</td>\n",
              "    </tr>\n",
              "    <tr>\n",
              "      <th>5</th>\n",
              "      <td>Jonathan Rosenbaum</td>\n",
              "      <td>fresh</td>\n",
              "      <td>114709</td>\n",
              "      <td>Chicago Reader</td>\n",
              "      <td>An entertaining computer-generated, hyperreali...</td>\n",
              "      <td>2008-03-10</td>\n",
              "      <td>9559</td>\n",
              "      <td>Toy story</td>\n",
              "    </tr>\n",
              "  </tbody>\n",
              "</table>\n",
              "</div>"
            ],
            "text/plain": [
              "               critic  fresh    imdb     publication                                              quote review_date  rtid      title\n",
              "1         Derek Adams  fresh  114709        Time Out  So ingenious in concept, design and execution ...  2009-10-04  9559  Toy story\n",
              "2     Richard Corliss  fresh  114709   TIME Magazine                  The year's most inventive comedy.  2008-08-31  9559  Toy story\n",
              "3         David Ansen  fresh  114709        Newsweek  A winning animated feature that has something ...  2008-08-18  9559  Toy story\n",
              "4       Leonard Klady  fresh  114709         Variety  The film sports a provocative and appealing st...  2008-06-09  9559  Toy story\n",
              "5  Jonathan Rosenbaum  fresh  114709  Chicago Reader  An entertaining computer-generated, hyperreali...  2008-03-10  9559  Toy story"
            ]
          },
          "metadata": {
            "tags": []
          },
          "execution_count": 3
        }
      ]
    },
    {
      "cell_type": "markdown",
      "metadata": {
        "id": "DFcIytlaGQdd",
        "colab_type": "text"
      },
      "source": [
        "### Explore"
      ]
    },
    {
      "cell_type": "code",
      "metadata": {
        "id": "jJC8TFflGQdf",
        "colab_type": "code",
        "colab": {
          "base_uri": "https://localhost:8080/",
          "height": 68
        },
        "outputId": "63418794-b820-45f7-93b2-070b657df2ca"
      },
      "source": [
        "n_reviews = len(critics)\n",
        "n_movies = critics.rtid.unique().size\n",
        "n_critics = critics.critic.unique().size\n",
        "\n",
        "\n",
        "print(\"Number of reviews: {:d}\".format(n_reviews))\n",
        "print(\"Number of critics: {:d}\".format(n_critics))\n",
        "print(\"Number of movies:  {:d}\".format(n_movies))"
      ],
      "execution_count": 4,
      "outputs": [
        {
          "output_type": "stream",
          "text": [
            "Number of reviews: 15561\n",
            "Number of critics: 623\n",
            "Number of movies:  1921\n"
          ],
          "name": "stdout"
        }
      ]
    },
    {
      "cell_type": "code",
      "metadata": {
        "id": "iiM0K-w7GQdk",
        "colab_type": "code",
        "colab": {
          "base_uri": "https://localhost:8080/",
          "height": 324
        },
        "outputId": "74dec072-0349-4bc1-f67a-07239281ce19"
      },
      "source": [
        "df = critics.copy()\n",
        "df['fresh'] = df.fresh == 'fresh'\n",
        "grp = df.groupby('critic')\n",
        "counts = grp.critic.count()  # number of reviews by each critic\n",
        "means = grp.fresh.mean()     # average freshness for each critic\n",
        "\n",
        "means[counts > 100].hist(bins=10, edgecolor='w', lw=1)\n",
        "plt.xlabel(\"Average Rating per critic\")\n",
        "plt.ylabel(\"Number of Critics\")\n",
        "plt.yticks([0, 2, 4, 6, 8, 10]);"
      ],
      "execution_count": 5,
      "outputs": [
        {
          "output_type": "display_data",
          "data": {
            "image/png": "[encoded data removed]",
            "text/plain": [
              "<Figure size 432x288 with 1 Axes>"
            ]
          },
          "metadata": {
            "tags": []
          }
        }
      ]
    },
    {
      "cell_type": "markdown",
      "metadata": {
        "id": "qpTGQYJZGQdp",
        "colab_type": "text"
      },
      "source": [
        "<div class=\"span5 alert alert-info\">\n",
        "<h3>Exercise Set I</h3>\n",
        "<br/>\n",
        "<b>Exercise:</b> Look at the histogram above. Tell a story about the average ratings per critic. What shape does the distribution look like? What is interesting about the distribution? What might explain these interesting things?\n",
        "</div>"
      ]
    },
    {
      "cell_type": "markdown",
      "metadata": {
        "id": "9J2osuORHIFL",
        "colab_type": "text"
      },
      "source": [
        "The average rating that many critics left is around 0.6. This is slightly higher than a 50-50 split between fresh and rotten. This works because in the code above 'fresh' was re-encoded as True (a value of 1) and rotten as False (a zero). Then the mean was taken. \n",
        "\n",
        "The distribution is roughly normal but there is a bunching of critics with average ratings at 0.7. This could be explained by the fact that there tends to be more consensus around movie ratings than less, critic by critic."
      ]
    },
    {
      "cell_type": "markdown",
      "metadata": {
        "id": "_E_nj6nEGQdr",
        "colab_type": "text"
      },
      "source": [
        "## The Vector Space Model and a Search Engine"
      ]
    },
    {
      "cell_type": "markdown",
      "metadata": {
        "id": "G3_Byl0mGQds",
        "colab_type": "text"
      },
      "source": [
        "All the diagrams here are snipped from [*Introduction to Information Retrieval* by Manning et. al.]( http://nlp.stanford.edu/IR-book/) which is a great resource on text processing. For additional information on text mining and natural language processing, see [*Foundations of Statistical Natural Language Processing* by Manning and Schutze](http://nlp.stanford.edu/fsnlp/).\n",
        "\n",
        "Also check out Python packages [`nltk`](http://www.nltk.org/), [`spaCy`](https://spacy.io/), [`pattern`](http://www.clips.ua.ac.be/pattern), and their associated resources. Also see [`word2vec`](https://en.wikipedia.org/wiki/Word2vec).\n",
        "\n",
        "Let us define the vector derived from document $d$ by $\\bar V(d)$. What does this mean? Each document is treated as a vector containing information about the words contained in it. Each vector has the same length and each entry \"slot\" in the vector contains some kind of data about the words that appear in the document such as presence/absence (1/0), count (an integer) or some other statistic. Each vector has the same length because each document shared the same vocabulary across the full collection of documents -- this collection is called a *corpus*.\n",
        "\n",
        "To define the vocabulary, we take a union of all words we have seen in all documents. We then just associate an array index with them. So \"hello\" may be at index 5 and \"world\" at index 99.\n",
        "\n",
        "Suppose we have the following corpus:\n",
        "\n",
        "`A Fox one day spied a beautiful bunch of ripe grapes hanging from a vine trained along the branches of a tree. The grapes seemed ready to burst with juice, and the Fox's mouth watered as he gazed longingly at them.`\n",
        "\n",
        "Suppose we treat each sentence as a document $d$. The vocabulary (often called the *lexicon*) is the following:\n",
        "\n",
        "$V = \\left\\{\\right.$ `a, along, and, as, at, beautiful, branches, bunch, burst, day, fox, fox's, from, gazed, grapes, hanging, he, juice, longingly, mouth, of, one, ready, ripe, seemed, spied, the, them, to, trained, tree, vine, watered, with`$\\left.\\right\\}$\n",
        "\n",
        "Then the document\n",
        "\n",
        "`A Fox one day spied a beautiful bunch of ripe grapes hanging from a vine trained along the branches of a tree`\n",
        "\n",
        "may be represented as the following sparse vector of word counts:\n",
        "\n",
        "$$\\bar V(d) = \\left( 4,1,0,0,0,1,1,1,0,1,1,0,1,0,1,1,0,0,0,0,2,1,0,1,0,0,1,0,0,1,1,1,0,0 \\right)$$\n",
        "\n",
        "or more succinctly as\n",
        "\n",
        "`[(0, 4), (1, 1), (5, 1), (6, 1), (7, 1), (9, 1), (10, 1), (12, 1), (14, 1), (15, 1), (20, 2), (21, 1), (23, 1),`\n",
        "`(26, 1), (29,1), (30, 1), (31, 1)]`\n",
        "\n",
        "along with a dictionary\n",
        "\n",
        "``\n",
        "{\n",
        "    0: a, 1: along, 5: beautiful, 6: branches, 7: bunch, 9: day, 10: fox, 12: from, 14: grapes, 15: hanging, 19: mouth, 20: of, 21: one, 23: ripe, 24: seemed, 25: spied, 26: the, 29:trained, 30: tree, 31: vine, \n",
        "}\n",
        "``\n",
        "\n",
        "Then, a set of documents becomes, in the usual `sklearn` style, a sparse matrix with rows being sparse arrays representing documents and columns representing the features/words in the vocabulary.\n",
        "\n",
        "Notice that this representation loses the relative ordering of the terms in the document. That is \"cat ate rat\" and \"rat ate cat\" are the same. Thus, this representation is also known as the Bag-Of-Words representation.\n",
        "\n",
        "Here is another example, from the book quoted above, although the matrix is transposed here so that documents are columns:\n",
        "\n",
        "![novel terms](terms.png)\n",
        "\n",
        "Such a matrix is also catted a Term-Document Matrix. Here, the terms being indexed could be stemmed before indexing; for instance, `jealous` and `jealousy` after stemming are the same feature. One could also make use of other \"Natural Language Processing\" transformations in constructing the vocabulary. We could use Lemmatization, which reduces words to lemmas: work, working, worked would all reduce to work. We could remove \"stopwords\" from our vocabulary, such as common words like \"the\". We could look for particular parts of speech, such as adjectives. This is often done in Sentiment Analysis. And so on. It all depends on our application.\n",
        "\n",
        "From the book:\n",
        ">The standard way of quantifying the similarity between two documents $d_1$ and $d_2$  is to compute the cosine similarity of their vector representations $\\bar V(d_1)$ and $\\bar V(d_2)$:\n",
        "\n",
        "$$S_{12} = \\frac{\\bar V(d_1) \\cdot \\bar V(d_2)}{|\\bar V(d_1)| \\times |\\bar V(d_2)|}$$\n",
        "\n",
        "![Vector Space Model](vsm.png)\n",
        "\n",
        "\n",
        ">There is a far more compelling reason to represent documents as vectors: we can also view a query as a vector. Consider the query q = jealous gossip. This query turns into the unit vector $\\bar V(q)$ = (0, 0.707, 0.707) on the three coordinates below. \n",
        "\n",
        "![novel terms](terms2.png)\n",
        "\n",
        ">The key idea now: to assign to each document d a score equal to the dot product:\n",
        "\n",
        "$$\\bar V(q) \\cdot \\bar V(d)$$\n",
        "\n",
        "Then we can use this simple Vector Model as a Search engine."
      ]
    },
    {
      "cell_type": "markdown",
      "metadata": {
        "id": "h5NnZMccGQdu",
        "colab_type": "text"
      },
      "source": [
        "### In Code"
      ]
    },
    {
      "cell_type": "code",
      "metadata": {
        "id": "SIa1LffGGQdx",
        "colab_type": "code",
        "colab": {
          "base_uri": "https://localhost:8080/",
          "height": 221
        },
        "outputId": "ce8bb6d3-1bcd-40fb-b94c-fb115e26bc7f"
      },
      "source": [
        "from sklearn.feature_extraction.text import CountVectorizer\n",
        "\n",
        "text = ['Hop on pop', 'Hop off pop', 'Hop Hop hop']\n",
        "print(\"Original text is\\n{}\".format('\\n'.join(text)))\n",
        "\n",
        "vectorizer = CountVectorizer(min_df=0)\n",
        "\n",
        "# call `fit` to build the vocabulary\n",
        "vectorizer.fit(text)\n",
        "\n",
        "# call `transform` to convert text to a bag of words\n",
        "x = vectorizer.transform(text)\n",
        "\n",
        "# CountVectorizer uses a sparse array to save memory, but it's easier in this assignment to \n",
        "# convert back to a \"normal\" numpy array\n",
        "x = x.toarray()\n",
        "\n",
        "print(\"\")\n",
        "print(\"Transformed text vector is \\n{}\".format(x))\n",
        "\n",
        "# `get_feature_names` tracks which word is associated with each column of the transformed x\n",
        "print(\"\")\n",
        "print(\"Words for each feature:\")\n",
        "print(vectorizer.get_feature_names())\n",
        "\n",
        "# Notice that the bag of words treatment doesn't preserve information about the *order* of words, \n",
        "# just their frequency"
      ],
      "execution_count": 6,
      "outputs": [
        {
          "output_type": "stream",
          "text": [
            "Original text is\n",
            "Hop on pop\n",
            "Hop off pop\n",
            "Hop Hop hop\n",
            "\n",
            "Transformed text vector is \n",
            "[[1 0 1 1]\n",
            " [1 1 0 1]\n",
            " [3 0 0 0]]\n",
            "\n",
            "Words for each feature:\n",
            "[u'hop', u'off', u'on', u'pop']\n"
          ],
          "name": "stdout"
        }
      ]
    },
    {
      "cell_type": "code",
      "metadata": {
        "id": "98iBenUKGQd2",
        "colab_type": "code",
        "colab": {}
      },
      "source": [
        "def make_xy(critics, vectorizer=None):\n",
        "    #Your code here    \n",
        "    if vectorizer is None:\n",
        "        vectorizer = CountVectorizer()\n",
        "    X = vectorizer.fit_transform(critics.quote)\n",
        "    X = X.tocsc()  # some versions of sklearn return COO format\n",
        "    y = (critics.fresh == 'fresh').values.astype(np.int)\n",
        "    return X, y\n",
        "X, y = make_xy(critics)"
      ],
      "execution_count": 0,
      "outputs": []
    },
    {
      "cell_type": "markdown",
      "metadata": {
        "id": "UsCtx9DyGQd9",
        "colab_type": "text"
      },
      "source": [
        "## Naive Bayes"
      ]
    },
    {
      "cell_type": "markdown",
      "metadata": {
        "id": "1z4mqpN-GQd_",
        "colab_type": "text"
      },
      "source": [
        "From Bayes' Theorem, we have that\n",
        "\n",
        "$$P(c \\vert f) = \\frac{P(c \\cap f)}{P(f)}$$\n",
        "\n",
        "where $c$ represents a *class* or category, and $f$ represents a feature vector, such as $\\bar V(d)$ as above. **We are computing the probability that a document (or whatever we are classifying) belongs to category *c* given the features in the document.** $P(f)$ is really just a normalization constant, so the literature usually writes Bayes' Theorem in context of Naive Bayes as\n",
        "\n",
        "$$P(c \\vert f) \\propto P(f \\vert c) P(c) $$\n",
        "\n",
        "$P(c)$ is called the *prior* and is simply the probability of seeing class $c$. But what is $P(f \\vert c)$? This is the probability that we see feature set $f$ given that this document is actually in class $c$. This is called the *likelihood* and comes from the data. One of the major assumptions of the Naive Bayes model is that the features are *conditionally independent* given the class. While the presence of a particular discriminative word may uniquely identify the document as being part of class $c$ and thus violate general feature independence, conditional independence means that the presence of that term is independent of all the other words that appear *within that class*. This is a very important distinction. Recall that if two events are independent, then:\n",
        "\n",
        "$$P(A \\cap B) = P(A) \\cdot P(B)$$\n",
        "\n",
        "Thus, conditional independence implies\n",
        "\n",
        "$$P(f \\vert c)  = \\prod_i P(f_i | c) $$\n",
        "\n",
        "where $f_i$ is an individual feature (a word in this example).\n",
        "\n",
        "To make a classification, we then choose the class $c$ such that $P(c \\vert f)$ is maximal.\n",
        "\n",
        "There is a small caveat when computing these probabilities. For [floating point underflow](http://nlp.stanford.edu/IR-book/html/htmledition/naive-bayes-text-classification-1.html) we change the product into a sum by going into log space. This is called the LogSumExp trick. So:\n",
        "\n",
        "$$\\log P(f \\vert c)  = \\sum_i \\log P(f_i \\vert c) $$\n",
        "\n",
        "There is another caveat. What if we see a term that didn't exist in the training data? This means that $P(f_i \\vert c) = 0$ for that term, and thus $P(f \\vert c)  = \\prod_i P(f_i | c) = 0$, which doesn't help us at all. Instead of using zeros, we add a small negligible value called $\\alpha$ to each count. This is called Laplace Smoothing.\n",
        "\n",
        "$$P(f_i \\vert c) = \\frac{N_{ic}+\\alpha}{N_c + \\alpha N_i}$$\n",
        "\n",
        "where $N_{ic}$ is the number of times feature $i$ was seen in class $c$, $N_c$ is the number of times class $c$ was seen and $N_i$ is the number of times feature $i$ was seen globally. $\\alpha$ is sometimes called a regularization parameter."
      ]
    },
    {
      "cell_type": "markdown",
      "metadata": {
        "id": "3iNC7EkGGQeD",
        "colab_type": "text"
      },
      "source": [
        "### Multinomial Naive Bayes and Other Likelihood Functions\n",
        "\n",
        "Since we are modeling word counts, we are using variation of Naive Bayes called Multinomial Naive Bayes. This is because the likelihood function actually takes the form of the multinomial distribution.\n",
        "\n",
        "$$P(f \\vert c) = \\frac{\\left( \\sum_i f_i \\right)!}{\\prod_i f_i!} \\prod_{f_i} P(f_i \\vert c)^{f_i} \\propto \\prod_{i} P(f_i \\vert c)$$\n",
        "\n",
        "where the nasty term out front is absorbed as a normalization constant such that probabilities sum to 1.\n",
        "\n",
        "There are many other variations of Naive Bayes, all which depend on what type of value $f_i$ takes. If $f_i$ is continuous, we may be able to use *Gaussian Naive Bayes*. First compute the mean and variance for each class $c$. Then the likelihood, $P(f \\vert c)$ is given as follows\n",
        "\n",
        "$$P(f_i = v \\vert c) = \\frac{1}{\\sqrt{2\\pi \\sigma^2_c}} e^{- \\frac{\\left( v - \\mu_c \\right)^2}{2 \\sigma^2_c}}$$"
      ]
    },
    {
      "cell_type": "markdown",
      "metadata": {
        "id": "5qdLMvhdGQeF",
        "colab_type": "text"
      },
      "source": [
        "<div class=\"span5 alert alert-info\">\n",
        "<h3>Exercise Set II</h3>\n",
        "\n",
        "<p><b>Exercise:</b> Implement a simple Naive Bayes classifier:</p>\n",
        "\n",
        "<ol>\n",
        "<li> split the data set into a training and test set\n",
        "<li> Use `scikit-learn`'s `MultinomialNB()` classifier with default parameters.\n",
        "<li> train the classifier over the training set and test on the test set\n",
        "<li> print the accuracy scores for both the training and the test sets\n",
        "</ol>\n",
        "\n",
        "What do you notice? Is this a good classifier? If not, why not?\n",
        "</div>"
      ]
    },
    {
      "cell_type": "code",
      "metadata": {
        "id": "Aw4cbhyhGQeG",
        "colab_type": "code",
        "colab": {
          "base_uri": "https://localhost:8080/",
          "height": 204
        },
        "outputId": "0c5e0519-f6b5-462d-e44e-6d81f1d31c9a"
      },
      "source": [
        "#your turn\n",
        "from sklearn.naive_bayes import MultinomialNB\n",
        "from sklearn.model_selection import train_test_split\n",
        "from sklearn.metrics import classification_report\n",
        "from sklearn.metrics import confusion_matrix\n",
        "\n",
        "X_train, X_test, y_train, y_test = train_test_split(X, y, test_size = 0.3, stratify=y)\n",
        "\n",
        "MnNB = MultinomialNB()\n",
        "\n",
        "MnNB.fit(X_train, y_train)\n",
        "\n",
        "y_pred = MnNB.predict(X_test)\n",
        "\n",
        "print(confusion_matrix(y_test, y_pred))\n",
        "print(classification_report(y_test, y_pred))"
      ],
      "execution_count": 8,
      "outputs": [
        {
          "output_type": "stream",
          "text": [
            "[[1151  673]\n",
            " [ 395 2450]]\n",
            "              precision    recall  f1-score   support\n",
            "\n",
            "           0       0.74      0.63      0.68      1824\n",
            "           1       0.78      0.86      0.82      2845\n",
            "\n",
            "   micro avg       0.77      0.77      0.77      4669\n",
            "   macro avg       0.76      0.75      0.75      4669\n",
            "weighted avg       0.77      0.77      0.77      4669\n",
            "\n"
          ],
          "name": "stdout"
        }
      ]
    },
    {
      "cell_type": "markdown",
      "metadata": {
        "id": "H8ZKVdR_LwA_",
        "colab_type": "text"
      },
      "source": [
        "It's pretty good at predicting true positives, and worse at predicting true negatives (or the classes are not evenly distributed). This is confirmed by the F-1 score for class 1 (0.82) being strong. Precision and recall are higher too, so this model is better all around at predicting if a movie is 'fresh' but worse at other predictions."
      ]
    },
    {
      "cell_type": "markdown",
      "metadata": {
        "id": "cwMq3c5lGQeM",
        "colab_type": "text"
      },
      "source": [
        "### Picking Hyperparameters for Naive Bayes and Text Maintenance"
      ]
    },
    {
      "cell_type": "markdown",
      "metadata": {
        "id": "ZXAmJoufGQeN",
        "colab_type": "text"
      },
      "source": [
        "We need to know what value to use for $\\alpha$, and we also need to know which words to include in the vocabulary. As mentioned earlier, some words are obvious stopwords. Other words appear so infrequently that they serve as noise, and other words in addition to stopwords appear so frequently that they may also serve as noise."
      ]
    },
    {
      "cell_type": "markdown",
      "metadata": {
        "id": "PXuADei7GQeX",
        "colab_type": "text"
      },
      "source": [
        "First, let's find an appropriate value for `min_df` for the `CountVectorizer`. `min_df` can be either an integer or a float/decimal. If it is an integer, `min_df` represents the minimum number of documents a word must appear in for it to be included in the vocabulary. If it is a float, it represents the minimum *percentage* of documents a word must appear in to be included in the vocabulary. From the documentation:"
      ]
    },
    {
      "cell_type": "markdown",
      "metadata": {
        "id": "91Ti4QgOGQeZ",
        "colab_type": "text"
      },
      "source": [
        ">min_df: When building the vocabulary ignore terms that have a document frequency strictly lower than the given threshold. This value is also called cut-off in the literature. If float, the parameter represents a proportion of documents, integer absolute counts. This parameter is ignored if vocabulary is not None."
      ]
    },
    {
      "cell_type": "markdown",
      "metadata": {
        "id": "5lsZq2ywGQea",
        "colab_type": "text"
      },
      "source": [
        "<div class=\"span5 alert alert-info\">\n",
        "<h3>Exercise Set III</h3>\n",
        "\n",
        "<p><b>Exercise:</b> Construct the cumulative distribution of document frequencies (df). The $x$-axis is a document count $x_i$ and the $y$-axis is the percentage of words that appear less than $x_i$ times. For example, at $x=5$, plot a point representing the percentage or number of words that appear in 5 or fewer documents.</p>\n",
        "\n",
        "<p><b>Exercise:</b> Look for the point at which the curve begins climbing steeply. This may be a good value for `min_df`. If we were interested in also picking `max_df`, we would likely pick the value where the curve starts to plateau. What value did you choose?</p>\n",
        "</div>"
      ]
    },
    {
      "cell_type": "code",
      "metadata": {
        "id": "6OdIYiG0GQeb",
        "colab_type": "code",
        "colab": {
          "base_uri": "https://localhost:8080/",
          "height": 330
        },
        "outputId": "3197e71a-ad0c-42c8-be13-8512bcc5b51d"
      },
      "source": [
        "import matplotlib.pyplot as plt\n",
        "\n",
        "X, y = make_xy(critics)\n",
        "\n",
        "df = list((X > 0).sum(0).tolist()[0])\n",
        "xes = pd.Series(df)\n",
        "ys = np.arange(xes.sum())\n",
        "plt.hist(xes,ys,normed=True, histtype='step', cumulative=True, linewidth=2)\n",
        "plt.xlim(-1,100)\n",
        "plt.xticks(range(0,100,10));"
      ],
      "execution_count": 10,
      "outputs": [
        {
          "output_type": "stream",
          "text": [
            "/usr/local/lib/python2.7/dist-packages/matplotlib/axes/_axes.py:6571: UserWarning: The 'normed' kwarg is deprecated, and has been replaced by the 'density' kwarg.\n",
            "  warnings.warn(\"The 'normed' kwarg is deprecated, and has been \"\n"
          ],
          "name": "stderr"
        },
        {
          "output_type": "display_data",
          "data": {
            "image/png": "[encoded data removed]",
            "text/plain": [
              "<Figure size 432x288 with 1 Axes>"
            ]
          },
          "metadata": {
            "tags": []
          }
        }
      ]
    },
    {
      "cell_type": "markdown",
      "metadata": {
        "id": "QJDkY0jXPXP9",
        "colab_type": "text"
      },
      "source": [
        "It starts to climb around 2 and it looks like it starts to plateau around 20. Therefore min_df = 2; \n",
        "max_df = 20"
      ]
    },
    {
      "cell_type": "markdown",
      "metadata": {
        "id": "fBYufQkyGQeh",
        "colab_type": "text"
      },
      "source": [
        "The parameter $\\alpha$ is chosen to be a small value that simply avoids having zeros in the probability computations. This value can sometimes be chosen arbitrarily with domain expertise, but we will use K-fold cross validation. In K-fold cross-validation, we divide the data into $K$ non-overlapping parts. We train on $K-1$ of the folds and test on the remaining fold. We then iterate, so that each fold serves as the test fold exactly once. The function `cv_score` performs the K-fold cross-validation algorithm for us, but we need to pass a function that measures the performance of the algorithm on each fold. "
      ]
    },
    {
      "cell_type": "code",
      "metadata": {
        "id": "RoHY_W2BGQei",
        "colab_type": "code",
        "colab": {}
      },
      "source": [
        "from sklearn.model_selection import KFold\n",
        "def cv_score(clf, X, y, scorefunc):\n",
        "    result = 0.\n",
        "    nfold = 5\n",
        "    for train, test in KFold(nfold).split(X): # split data into train/test groups, 5 times\n",
        "        clf.fit(X[train], y[train]) # fit the classifier, passed is as clf.\n",
        "        result += scorefunc(clf, X[test], y[test]) # evaluate score function on held-out data\n",
        "    return result / nfold # average"
      ],
      "execution_count": 0,
      "outputs": []
    },
    {
      "cell_type": "markdown",
      "metadata": {
        "id": "jcZdT8rtGQem",
        "colab_type": "text"
      },
      "source": [
        "We use the log-likelihood as the score here in `scorefunc`. The higher the log-likelihood, the better. Indeed, what we do in `cv_score` above is to implement the cross-validation part of `GridSearchCV`.\n",
        "\n",
        "The custom scoring function `scorefunc` allows us to use different metrics depending on the decision risk we care about (precision, accuracy, profit etc.) directly on the validation set. You will often find people using `roc_auc`, precision, recall, or `F1-score` as the scoring function."
      ]
    },
    {
      "cell_type": "code",
      "metadata": {
        "id": "ZanqplvBGQeo",
        "colab_type": "code",
        "colab": {}
      },
      "source": [
        "def log_likelihood(clf, x, y):\n",
        "    prob = clf.predict_log_proba(x)\n",
        "    rotten = y == 0\n",
        "    fresh = ~rotten\n",
        "    return prob[rotten, 0].sum() + prob[fresh, 1].sum()"
      ],
      "execution_count": 0,
      "outputs": []
    },
    {
      "cell_type": "markdown",
      "metadata": {
        "id": "TqB3855AGQes",
        "colab_type": "text"
      },
      "source": [
        "We'll cross-validate over the regularization parameter $\\alpha$."
      ]
    },
    {
      "cell_type": "markdown",
      "metadata": {
        "id": "wFdM-tk7GQeu",
        "colab_type": "text"
      },
      "source": [
        "Let's set up the train and test masks first, and then we can run the cross-validation procedure."
      ]
    },
    {
      "cell_type": "code",
      "metadata": {
        "id": "EVdTHrMeGQev",
        "colab_type": "code",
        "colab": {
          "base_uri": "https://localhost:8080/",
          "height": 51
        },
        "outputId": "8d545706-e4f2-47fd-969f-a2cfbc7c01ad"
      },
      "source": [
        "from sklearn.model_selection import train_test_split\n",
        "_, itest = train_test_split(range(critics.shape[0]), train_size=0.7)\n",
        "mask = np.zeros(critics.shape[0], dtype=np.bool)\n",
        "mask[itest] = True"
      ],
      "execution_count": 13,
      "outputs": [
        {
          "output_type": "stream",
          "text": [
            "/usr/local/lib/python2.7/dist-packages/sklearn/model_selection/_split.py:2179: FutureWarning: From version 0.21, test_size will always complement train_size unless both are specified.\n",
            "  FutureWarning)\n"
          ],
          "name": "stderr"
        }
      ]
    },
    {
      "cell_type": "markdown",
      "metadata": {
        "id": "wz2R6ezKGQe2",
        "colab_type": "text"
      },
      "source": [
        "<div class=\"span5 alert alert-info\">\n",
        "<h3>Exercise Set IV</h3>\n",
        "\n",
        "<p><b>Exercise:</b> What does using the function `log_likelihood` as the score mean? What are we trying to optimize for?</p>\n",
        "\n",
        "<p><b>Exercise:</b> Without writing any code, what do you think would happen if you choose a value of $\\alpha$ that is too high?</p>\n",
        "\n",
        "<p><b>Exercise:</b> Using the skeleton code below, find the best values of the parameter `alpha`, and use the value of `min_df` you chose in the previous exercise set. Use the `cv_score` function above with the `log_likelihood` function for scoring.</p>\n",
        "</div>"
      ]
    },
    {
      "cell_type": "markdown",
      "metadata": {
        "id": "F-glNFIPQPkD",
        "colab_type": "text"
      },
      "source": [
        "1. We are trying to maximize the likelihood by having strong predictive power. Taking the log-transform of the data deals with skewness appropriately.\n",
        "\n",
        "2. Every movie would be predicted as fresh.\n",
        "\n",
        "3. See below:"
      ]
    },
    {
      "cell_type": "code",
      "metadata": {
        "id": "dXGTpRIuGQe4",
        "colab_type": "code",
        "colab": {
          "base_uri": "https://localhost:8080/",
          "height": 136
        },
        "outputId": "85ce6b78-3840-492b-bc31-0f55c3dbfb97"
      },
      "source": [
        "from sklearn.naive_bayes import MultinomialNB\n",
        "\n",
        "#the grid of parameters to search over\n",
        "alphas = [.1, 1, 5, 10, 20, 25, 50]\n",
        "i_s = range(7)\n",
        "best_min_df = 2 # YOUR TURN: put your value of min_df here.\n",
        "\n",
        "#Find the best value for alpha and min_df, and the best classifier\n",
        "best_alpha = None\n",
        "maxscore=-np.inf\n",
        "scores = []\n",
        "for alpha in alphas:        \n",
        "    vectorizer = CountVectorizer(min_df=best_min_df, max_df=20)       \n",
        "    Xthis, ythis = make_xy(critics, vectorizer)\n",
        "    Xtrainthis = Xthis[mask]\n",
        "    ytrainthis = ythis[mask]\n",
        "\n",
        "    clf = MultinomialNB(alpha=alpha)\n",
        "    score = cv_score(clf, Xthis, ythis, log_likelihood)\n",
        "    if score > maxscore:\n",
        "      maxscore = score\n",
        "      best_alpha = alpha\n",
        "    scores.append((alpha, score))\n",
        "scores"
      ],
      "execution_count": 58,
      "outputs": [
        {
          "output_type": "execute_result",
          "data": {
            "text/plain": [
              "[(0.1, -3001.0928875737122),\n",
              " (1, -2053.571265229646),\n",
              " (5, -1886.92077023121),\n",
              " (10, -1919.4303424014502),\n",
              " (20, -1972.3524001930764),\n",
              " (25, -1989.0164904049918),\n",
              " (50, -2032.1606441023018)]"
            ]
          },
          "metadata": {
            "tags": []
          },
          "execution_count": 58
        }
      ]
    },
    {
      "cell_type": "code",
      "metadata": {
        "id": "LFLjB9BqGQe8",
        "colab_type": "code",
        "colab": {
          "base_uri": "https://localhost:8080/",
          "height": 34
        },
        "outputId": "af1f7fe8-1c50-4e45-cb7a-38a3a498ba35"
      },
      "source": [
        "print(\"alpha: {}\".format(best_alpha))"
      ],
      "execution_count": 59,
      "outputs": [
        {
          "output_type": "stream",
          "text": [
            "alpha: 5\n"
          ],
          "name": "stdout"
        }
      ]
    },
    {
      "cell_type": "markdown",
      "metadata": {
        "id": "AZhwhx1BGQfB",
        "colab_type": "text"
      },
      "source": [
        "<div class=\"span5 alert alert-info\">\n",
        "<h3>Exercise Set V: Working with the Best Parameters</h3>\n",
        "\n",
        "<p><b>Exercise:</b> Using the best value of  `alpha` you just found, calculate the accuracy on the training and test sets. Is this classifier better? Why (not)?</p>\n",
        "\n",
        "</div>"
      ]
    },
    {
      "cell_type": "code",
      "metadata": {
        "id": "PZb9oIh7GQfG",
        "colab_type": "code",
        "colab": {
          "base_uri": "https://localhost:8080/",
          "height": 51
        },
        "outputId": "e9f16137-916f-4765-8339-fb43d4685502"
      },
      "source": [
        "vectorizer = CountVectorizer(min_df=best_min_df)\n",
        "X, y = make_xy(critics, vectorizer)\n",
        "xtrain=X[mask]\n",
        "ytrain=y[mask]\n",
        "xtest=X[~mask]\n",
        "ytest=y[~mask]\n",
        "\n",
        "clf = MultinomialNB(alpha=best_alpha).fit(xtrain, ytrain)\n",
        "\n",
        "#your turn. Print the accuracy on the test and training dataset\n",
        "training_accuracy = clf.score(xtrain, ytrain)\n",
        "test_accuracy = clf.score(xtest, ytest)\n",
        "\n",
        "print(\"Accuracy on training data: {:2f}\".format(training_accuracy))\n",
        "print(\"Accuracy on test data:     {:2f}\".format(test_accuracy))"
      ],
      "execution_count": 68,
      "outputs": [
        {
          "output_type": "stream",
          "text": [
            "Accuracy on training data: 0.705933\n",
            "Accuracy on test data:     0.636063\n"
          ],
          "name": "stdout"
        }
      ]
    },
    {
      "cell_type": "code",
      "metadata": {
        "id": "ksMpaNeJGQfO",
        "colab_type": "code",
        "colab": {
          "base_uri": "https://localhost:8080/",
          "height": 51
        },
        "outputId": "e5b4debf-7cd0-4fde-f319-302df0fe130c"
      },
      "source": [
        "from sklearn.metrics import confusion_matrix\n",
        "print(confusion_matrix(ytest, clf.predict(xtest)))"
      ],
      "execution_count": 61,
      "outputs": [
        {
          "output_type": "stream",
          "text": [
            "[[ 413 3915]\n",
            " [  49 6515]]\n"
          ],
          "name": "stdout"
        }
      ]
    },
    {
      "cell_type": "markdown",
      "metadata": {
        "id": "kwP2JIESGQfT",
        "colab_type": "text"
      },
      "source": [
        "## Interpretation"
      ]
    },
    {
      "cell_type": "markdown",
      "metadata": {
        "id": "Ug_6efpsGQfU",
        "colab_type": "text"
      },
      "source": [
        "### What are the strongly predictive features?\n",
        "\n",
        "We use a neat trick to identify strongly predictive features (i.e. words). \n",
        "\n",
        "* first, create a data set such that each row has exactly one feature. This is represented by the identity matrix.\n",
        "* use the trained classifier to make predictions on this matrix\n",
        "* sort the rows by predicted probabilities, and pick the top and bottom $K$ rows"
      ]
    },
    {
      "cell_type": "code",
      "metadata": {
        "id": "wbv0WGTDGQfV",
        "colab_type": "code",
        "colab": {
          "base_uri": "https://localhost:8080/",
          "height": 391
        },
        "outputId": "148c842b-935a-407f-8567-fb922c7bad32"
      },
      "source": [
        "words = np.array(vectorizer.get_feature_names())\n",
        "\n",
        "x = np.eye(xtest.shape[1])\n",
        "probs = clf.predict_log_proba(x)[:, 0]\n",
        "ind = np.argsort(probs)\n",
        "\n",
        "good_words = words[ind[:10]]\n",
        "bad_words = words[ind[-10:]]\n",
        "\n",
        "good_prob = probs[ind[:10]]\n",
        "bad_prob = probs[ind[-10:]]\n",
        "\n",
        "print(\"Good words\\t     P(fresh | word)\")\n",
        "for w, p in zip(good_words, good_prob):\n",
        "    print(\"{:>20}\".format(w), \"{:.2f}\".format(1 - np.exp(p)))\n",
        "    \n",
        "print(\"Bad words\\t     P(fresh | word)\")\n",
        "for w, p in zip(bad_words, bad_prob):\n",
        "    print(\"{:>20}\".format(w), \"{:.2f}\".format(1 - np.exp(p)))"
      ],
      "execution_count": 62,
      "outputs": [
        {
          "output_type": "stream",
          "text": [
            "Good words\t     P(fresh | word)\n",
            "('                rare', '0.91')\n",
            "('         performance', '0.90')\n",
            "('        entertaining', '0.89')\n",
            "('               world', '0.88')\n",
            "('         intelligent', '0.88')\n",
            "('          impressive', '0.87')\n",
            "('                best', '0.87')\n",
            "('             perfect', '0.87')\n",
            "('               great', '0.86')\n",
            "('           hilarious', '0.86')\n",
            "Bad words\t     P(fresh | word)\n",
            "('              forced', '0.33')\n",
            "('       unfortunately', '0.33')\n",
            "('               awful', '0.33')\n",
            "('             tedious', '0.32')\n",
            "('             unfunny', '0.32')\n",
            "('             problem', '0.31')\n",
            "('               bland', '0.31')\n",
            "('                lame', '0.31')\n",
            "('               fails', '0.30')\n",
            "('                dull', '0.26')\n"
          ],
          "name": "stdout"
        }
      ]
    },
    {
      "cell_type": "markdown",
      "metadata": {
        "id": "OjgjST5FGQfa",
        "colab_type": "text"
      },
      "source": [
        "<div class=\"span5 alert alert-info\">\n",
        "<h3>Exercise Set VI</h3>\n",
        "\n",
        "<p><b>Exercise:</b> Why does this method work? What does the probability for each row in the identity matrix represent</p>\n",
        "\n",
        "</div>\n",
        "\n",
        "It works because you predict the probability of words being good or bad predictors with the trained classifier, so it knows what is a good or bad predictive word. Taking the top and bottom k gets you the best and worst words for predicting freshness!"
      ]
    },
    {
      "cell_type": "markdown",
      "metadata": {
        "id": "VDQvUAnYGQfc",
        "colab_type": "text"
      },
      "source": [
        "The above exercise is an example of *feature selection*. There are many other feature selection methods. A list of feature selection methods available in `sklearn` is [here](http://scikit-learn.org/stable/modules/classes.html#module-sklearn.feature_selection). The most common feature selection technique for text mining is the chi-squared $\\left( \\chi^2 \\right)$ [method](http://nlp.stanford.edu/IR-book/html/htmledition/feature-selectionchi2-feature-selection-1.html)."
      ]
    },
    {
      "cell_type": "markdown",
      "metadata": {
        "id": "UCY3W0xnGQff",
        "colab_type": "text"
      },
      "source": [
        "### Prediction Errors\n",
        "\n",
        "We can see mis-predictions as well."
      ]
    },
    {
      "cell_type": "code",
      "metadata": {
        "id": "V7uCEKB3GQfh",
        "colab_type": "code",
        "colab": {
          "base_uri": "https://localhost:8080/",
          "height": 445
        },
        "outputId": "d5ee29c0-beef-4a1c-c07f-7afecf831978"
      },
      "source": [
        "x, y = make_xy(critics, vectorizer)\n",
        "\n",
        "prob = clf.predict_proba(x)[:, 0]\n",
        "predict = clf.predict(x)\n",
        "\n",
        "bad_rotten = np.argsort(prob[y == 0])[:5]\n",
        "bad_fresh = np.argsort(prob[y == 1])[-5:]\n",
        "\n",
        "print(\"Mis-predicted Rotten quotes\")\n",
        "print('---------------------------')\n",
        "for row in bad_rotten:\n",
        "    print(critics[y == 0].quote.iloc[row])\n",
        "    print(\"\")\n",
        "\n",
        "print(\"Mis-predicted Fresh quotes\")\n",
        "print('--------------------------')\n",
        "for row in bad_fresh:\n",
        "    print(critics[y == 1].quote.iloc[row])\n",
        "    print(\"\")"
      ],
      "execution_count": 63,
      "outputs": [
        {
          "output_type": "stream",
          "text": [
            "Mis-predicted Rotten quotes\n",
            "---------------------------\n",
            "All of the special effects in the world, and all of the great makeup, and all of the great Muppet creatures can't save a movie that has no clear idea of its own mission and no joy in its own accomplishment.\n",
            "\n",
            "Nava, who started his feature-film career with El Norte, is a good director who invariably finds a strong rapport with his actors. He's not much of a writer, though, and he should think twice about creating dialogue for his future projects.\n",
            "\n",
            "In this film [Hughes] has created a character who is every teen-ager's fantasy, but in the process he has lost some of the authenticity of his other films.\n",
            "\n",
            "I know that Platoon is being acclaimed for its realism, and I expect to be chastened for being a woman finding fault with a war film. But I've probably seen as much combat as most of the men saying, 'This is how war is.'\n",
            "\n",
            "This 1976 thriller, about a high school outcast (Sissy Spacek) who uses her telekinetic powers to massacre the graduating class, contains a number of interesting ideas. But as with most of his films, De Palma can't keep track of them.\n",
            "\n",
            "Mis-predicted Fresh quotes\n",
            "--------------------------\n",
            "The movie's no roller-coaster ride, but there isn't a boring moment either.\n",
            "\n",
            "After too long dulling down in duds like Mary Reilly, [Roberts] dazzles again.\n",
            "\n",
            "Dead Man Walking could easily be manipulative or exploitative, but it's neither. Instead, this is hard-hitting drama that neither accepts nor offers quarter.\n",
            "\n",
            "Weighed down by a dull setup featuring Ralph 'Karate Kid' Macchio, the movie gets a much-needed charge from Pesci, a bundle of bandy-legged impudence as Macchio's lawyer cousin, Vincent Gambini.\n",
            "\n",
            "Supernova, though predictable, isn't half bad.\n",
            "\n"
          ],
          "name": "stdout"
        }
      ]
    },
    {
      "cell_type": "markdown",
      "metadata": {
        "id": "fFAXPe_4GQfl",
        "colab_type": "text"
      },
      "source": [
        "<div class=\"span5 alert alert-info\">\n",
        "<h3>Exercise Set VII: Predicting the Freshness for a New Review</h3>\n",
        "<br/>\n",
        "<div>\n",
        "<b>Exercise:</b>\n",
        "<ul>\n",
        "<li> Using your best trained classifier, predict the freshness of the following sentence: *'This movie is not remarkable, touching, or superb in any way'*\n",
        "<li> Is the result what you'd expect? Why (not)?\n",
        "</ul>\n",
        "</div>\n",
        "</div>"
      ]
    },
    {
      "cell_type": "code",
      "metadata": {
        "id": "JNoud5ZdGQfm",
        "colab_type": "code",
        "colab": {
          "base_uri": "https://localhost:8080/",
          "height": 51
        },
        "outputId": "e7a4df49-8cd2-4779-8264-2649e53fcb38"
      },
      "source": [
        "vectorizer = CountVectorizer(min_df = best_min_df)\n",
        "X, y = make_xy(critics, vectorizer)\n",
        "clf = MultinomialNB(alpha = best_alpha).fit(X,y)\n",
        "\n",
        "quote = ['This movie is not remarkable, touching, or superb in any way']\n",
        "\n",
        "vectorized_text = vectorizer.transform(quote)\n",
        "new_probs = clf.predict_log_proba(vectorized_text)\n",
        "predicted_class = clf.predict(vectorized_text) \n",
        "\n",
        "print(('Class Probabilities: {}'.format(np.exp(new_probs))))\n",
        "print(('Predicted Class: {}'.format(predicted_class)))"
      ],
      "execution_count": 74,
      "outputs": [
        {
          "output_type": "stream",
          "text": [
            "Class Probabilities: [[0.00265754 0.99734246]]\n",
            "Predicted Class: [1]\n"
          ],
          "name": "stdout"
        }
      ]
    },
    {
      "cell_type": "markdown",
      "metadata": {
        "id": "ixE3kqSv_wq1",
        "colab_type": "text"
      },
      "source": [
        "It seems it missed the mark because of the positive sentiment words even though they were negated with 'not' at the beginning. It probably thought it was not remarkable, but it was touching and superb, and so those outweighed the negative sentiment of 'not remarkable'. It is naive after all."
      ]
    },
    {
      "cell_type": "markdown",
      "metadata": {
        "id": "H6wqBs4yGQfq",
        "colab_type": "text"
      },
      "source": [
        "### Aside: TF-IDF Weighting for Term Importance\n",
        "\n",
        "TF-IDF stands for \n",
        "\n",
        "`Term-Frequency X Inverse Document Frequency`.\n",
        "\n",
        "In the standard `CountVectorizer` model above, we used just the term frequency in a document of words in our vocabulary. In TF-IDF, we weight this term frequency by the inverse of its popularity in all documents. For example, if the word \"movie\" showed up in all the documents, it would not have much predictive value. It could actually be considered a stopword. By weighing its counts by 1 divided by its overall frequency, we downweight it. We can then use this TF-IDF weighted features as inputs to any classifier. **TF-IDF is essentially a measure of term importance, and of how discriminative a word is in a corpus.** There are a variety of nuances involved in computing TF-IDF, mainly involving where to add the smoothing term to avoid division by 0, or log of 0 errors. The formula for TF-IDF in `scikit-learn` differs from that of most textbooks: \n",
        "\n",
        "$$\\mbox{TF-IDF}(t, d) = \\mbox{TF}(t, d)\\times \\mbox{IDF}(t) = n_{td} \\log{\\left( \\frac{\\vert D \\vert}{\\vert d : t \\in d \\vert} + 1 \\right)}$$\n",
        "\n",
        "where $n_{td}$ is the number of times term $t$ occurs in document $d$, $\\vert D \\vert$ is the number of documents, and $\\vert d : t \\in d \\vert$ is the number of documents that contain $t$"
      ]
    },
    {
      "cell_type": "code",
      "metadata": {
        "id": "5jrXLRMyGQfr",
        "colab_type": "code",
        "colab": {}
      },
      "source": [
        "# http://scikit-learn.org/dev/modules/feature_extraction.html#text-feature-extraction\n",
        "# http://scikit-learn.org/dev/modules/classes.html#text-feature-extraction-ref\n",
        "from sklearn.feature_extraction.text import TfidfVectorizer\n",
        "tfidfvectorizer = TfidfVectorizer(min_df=1, stop_words='english')\n",
        "Xtfidf=tfidfvectorizer.fit_transform(critics.quote)"
      ],
      "execution_count": 0,
      "outputs": []
    },
    {
      "cell_type": "markdown",
      "metadata": {
        "id": "PTWJPVloGQfx",
        "colab_type": "text"
      },
      "source": [
        "<div class=\"span5 alert alert-info\">\n",
        "<h3>Exercise Set VIII: Enrichment <b>(Optional)</b></h3>\n",
        "\n",
        "<p>\n",
        "There are several additional things we could try. Try some of these as exercises:\n",
        "<ol>\n",
        "<li> Build a Naive Bayes model where the features are n-grams instead of words. N-grams are phrases containing n words next to each other: a bigram contains 2 words, a trigram contains 3 words, and 6-gram contains 6 words. This is useful because \"not good\" and \"so good\" mean very different things. On the other hand, as n increases, the model does not scale well since the feature set becomes more sparse.\n",
        "<li> Try a model besides Naive Bayes, one that would allow for interactions between words -- for example, a Random Forest classifier.\n",
        "<li> Try adding supplemental features -- information about genre, director, cast, etc.\n",
        "<li> Use word2vec or [Latent Dirichlet Allocation](https://en.wikipedia.org/wiki/Latent_Dirichlet_allocation) to group words into topics and use those topics for prediction.\n",
        "<li> Use TF-IDF weighting instead of word counts.\n",
        "</ol>\n",
        "</p>\n",
        "\n",
        "<b>Exercise:</b> Try at least one of these ideas to improve the model (or any other ideas of your own). Implement here and report on the result. \n",
        "</div>"
      ]
    },
    {
      "cell_type": "code",
      "metadata": {
        "id": "33EBGLyHGQfz",
        "colab_type": "code",
        "colab": {}
      },
      "source": [
        "# Your turn"
      ],
      "execution_count": 0,
      "outputs": []
    }
  ]
}